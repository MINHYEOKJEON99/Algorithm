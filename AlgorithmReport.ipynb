{
  "nbformat": 4,
  "nbformat_minor": 0,
  "metadata": {
    "colab": {
      "provenance": [],
      "authorship_tag": "ABX9TyMUII5jj3UCLok1WUGNMQff",
      "include_colab_link": true
    },
    "kernelspec": {
      "name": "python3",
      "display_name": "Python 3"
    },
    "language_info": {
      "name": "python"
    }
  },
  "cells": [
    {
      "cell_type": "markdown",
      "metadata": {
        "id": "view-in-github",
        "colab_type": "text"
      },
      "source": [
        "<a href=\"https://colab.research.google.com/github/MINHYEOKJEON99/Algorithm/blob/main/AlgorithmReport.ipynb\" target=\"_parent\"><img src=\"https://colab.research.google.com/assets/colab-badge.svg\" alt=\"Open In Colab\"/></a>"
      ]
    },
    {
      "cell_type": "markdown",
      "source": [
        "Quick sort 구현"
      ],
      "metadata": {
        "id": "J-d_AvOhX8H_"
      }
    },
    {
      "cell_type": "code",
      "source": [
        "import random\n",
        "\n",
        "def quick_sort(arr):\n",
        "    if len(arr) <= 1:\n",
        "        return arr\n",
        "\n",
        "    pivot = random.choice(arr)\n",
        "    less = []\n",
        "    equal = []\n",
        "    greater = []\n",
        "\n",
        "    for num in arr:\n",
        "        if num < pivot:\n",
        "            less.append(num)\n",
        "        elif num == pivot:\n",
        "            equal.append(num)\n",
        "        else:\n",
        "            greater.append(num)\n",
        "\n",
        "    return quick_sort(less) + equal + quick_sort(greater)\n",
        "\n",
        "# 20개의 랜덤한 숫자 발생\n",
        "arr = [random.randint(1, 100) for _ in range(20)]\n",
        "print(\"Original array:\", arr)\n",
        "\n",
        "# Quick 정렬\n",
        "sorted_arr = quick_sort(arr)\n",
        "print(\"Sorted array:\", sorted_arr)"
      ],
      "metadata": {
        "colab": {
          "base_uri": "https://localhost:8080/"
        },
        "id": "HobHIOt4X7Z8",
        "outputId": "772e4b5a-f2f0-4d69-c385-aebd1f484155"
      },
      "execution_count": 6,
      "outputs": [
        {
          "output_type": "stream",
          "name": "stdout",
          "text": [
            "Original array: [44, 89, 78, 42, 51, 33, 57, 78, 67, 11, 80, 99, 1, 5, 41, 88, 15, 57, 12, 63]\n",
            "Sorted array: [1, 5, 11, 12, 15, 33, 41, 42, 44, 51, 57, 57, 63, 67, 78, 78, 80, 88, 89, 99]\n"
          ]
        }
      ]
    },
    {
      "cell_type": "markdown",
      "source": [
        "Heap발생 및 Sorting구성"
      ],
      "metadata": {
        "id": "-yo9R_f1WmVR"
      }
    },
    {
      "cell_type": "code",
      "execution_count": 1,
      "metadata": {
        "colab": {
          "base_uri": "https://localhost:8080/"
        },
        "id": "aoecx4rXWbM8",
        "outputId": "de1e2457-bf39-4229-bba8-48d70f029e42"
      },
      "outputs": [
        {
          "output_type": "stream",
          "name": "stdout",
          "text": [
            "Original array: [43, 13, 7, 82, 82, 2, 50, 30, 14, 15, 33, 45, 44, 8, 80, 71, 58, 5, 73, 42]\n",
            "Heap array: [82, 82, 80, 73, 43, 45, 50, 71, 14, 42, 33, 2, 44, 8, 7, 30, 58, 5, 13, 15]\n",
            "Sorted array: [2, 5, 7, 8, 13, 14, 15, 30, 33, 42, 43, 44, 45, 50, 58, 71, 73, 80, 82, 82]\n"
          ]
        }
      ],
      "source": [
        "import random\n",
        "\n",
        "def build_heap(arr):\n",
        "    n = len(arr)\n",
        "    for i in range(n//2 - 1, -1, -1):\n",
        "        heapify(arr, n, i)\n",
        "\n",
        "def heapify(arr, n, i):\n",
        "    largest = i\n",
        "    left = 2 * i + 1\n",
        "    right = 2 * i + 2\n",
        "\n",
        "    if left < n and arr[left] > arr[largest]:\n",
        "        largest = left\n",
        "\n",
        "    if right < n and arr[right] > arr[largest]:\n",
        "        largest = right\n",
        "\n",
        "    if largest != i:\n",
        "        arr[i], arr[largest] = arr[largest], arr[i]\n",
        "        heapify(arr, n, largest)\n",
        "\n",
        "def heap_sort(arr):\n",
        "    n = len(arr)\n",
        "\n",
        "    for i in range(n//2 - 1, -1, -1):\n",
        "        heapify(arr, n, i)\n",
        "\n",
        "    for i in range(n-1, 0, -1):\n",
        "        arr[0], arr[i] = arr[i], arr[0]\n",
        "        heapify(arr, i, 0)\n",
        "\n",
        "# 20개의 랜덤한 숫자 발생\n",
        "arr = [random.randint(1, 100) for _ in range(20)]\n",
        "print(\"Original array:\", arr)\n",
        "\n",
        "# Heap으로 구성\n",
        "build_heap(arr)\n",
        "print(\"Heap array:\", arr)\n",
        "\n",
        "# 정렬\n",
        "heap_sort(arr)\n",
        "print(\"Sorted array:\", arr)"
      ]
    },
    {
      "cell_type": "markdown",
      "source": [
        "Bubble정렬"
      ],
      "metadata": {
        "id": "LH5zH8EXW3-J"
      }
    },
    {
      "cell_type": "code",
      "source": [
        "import random\n",
        "\n",
        "def bubble_sort(arr):\n",
        "    n = len(arr)\n",
        "    for i in range(n-1):\n",
        "        for j in range(n-1-i):\n",
        "            if arr[j] > arr[j+1]:\n",
        "                arr[j], arr[j+1] = arr[j+1], arr[j]\n",
        "\n",
        "# 20개의 랜덤한 숫자 발생\n",
        "arr = [random.randint(1, 100) for _ in range(20)]\n",
        "print(\"Original array:\", arr)\n",
        "\n",
        "# Bubble 정렬\n",
        "bubble_sort(arr)\n",
        "print(\"Sorted array:\", arr)"
      ],
      "metadata": {
        "colab": {
          "base_uri": "https://localhost:8080/"
        },
        "id": "Fb0t5p8OW7jd",
        "outputId": "2b80a8d4-aa36-4b68-fcb8-688d66cca2fd"
      },
      "execution_count": 2,
      "outputs": [
        {
          "output_type": "stream",
          "name": "stdout",
          "text": [
            "Original array: [85, 10, 40, 5, 29, 61, 20, 83, 48, 15, 76, 37, 59, 43, 52, 12, 46, 33, 79, 91]\n",
            "Sorted array: [5, 10, 12, 15, 20, 29, 33, 37, 40, 43, 46, 48, 52, 59, 61, 76, 79, 83, 85, 91]\n"
          ]
        }
      ]
    },
    {
      "cell_type": "markdown",
      "source": [
        "Insertion 정렬"
      ],
      "metadata": {
        "id": "PYaUzNtmW9X5"
      }
    },
    {
      "cell_type": "code",
      "source": [
        "import random\n",
        "\n",
        "def insertion_sort(arr):\n",
        "    n = len(arr)\n",
        "    for i in range(1, n):\n",
        "        key = arr[i]\n",
        "        j = i - 1\n",
        "        while j >= 0 and arr[j] > key:\n",
        "            arr[j + 1] = arr[j]\n",
        "            j -= 1\n",
        "        arr[j + 1] = key\n",
        "\n",
        "# 20개의 랜덤한 숫자 발생\n",
        "arr = [random.randint(1, 100) for _ in range(20)]\n",
        "print(\"Original array:\", arr)\n",
        "\n",
        "# Insertion 정렬\n",
        "insertion_sort(arr)\n",
        "print(\"Sorted array:\", arr)"
      ],
      "metadata": {
        "colab": {
          "base_uri": "https://localhost:8080/"
        },
        "id": "n-h7uzaoXNKM",
        "outputId": "e3b193a1-eaec-4942-b428-2f4136134b5a"
      },
      "execution_count": 3,
      "outputs": [
        {
          "output_type": "stream",
          "name": "stdout",
          "text": [
            "Original array: [33, 2, 96, 72, 27, 95, 81, 24, 74, 31, 97, 21, 27, 61, 39, 52, 5, 96, 50, 66]\n",
            "Sorted array: [2, 5, 21, 24, 27, 27, 31, 33, 39, 50, 52, 61, 66, 72, 74, 81, 95, 96, 96, 97]\n"
          ]
        }
      ]
    },
    {
      "cell_type": "markdown",
      "source": [
        "Selection 정렬"
      ],
      "metadata": {
        "id": "zjbsgytmXOUq"
      }
    },
    {
      "cell_type": "code",
      "source": [
        "import random\n",
        "\n",
        "def selection_sort(arr):\n",
        "    n = len(arr)\n",
        "    for i in range(n-1):\n",
        "        min_idx = i\n",
        "        for j in range(i+1, n):\n",
        "            if arr[j] < arr[min_idx]:\n",
        "                min_idx = j\n",
        "        arr[i], arr[min_idx] = arr[min_idx], arr[i]\n",
        "\n",
        "# 20개의 랜덤한 숫자 발생\n",
        "arr = [random.randint(1, 100) for _ in range(20)]\n",
        "print(\"Original array:\", arr)\n",
        "\n",
        "# Selection 정렬\n",
        "selection_sort(arr)\n",
        "print(\"Sorted array:\", arr)"
      ],
      "metadata": {
        "colab": {
          "base_uri": "https://localhost:8080/"
        },
        "id": "Dnmvv68MXbt3",
        "outputId": "7cd32980-436b-476d-dc3a-2317151396b3"
      },
      "execution_count": 4,
      "outputs": [
        {
          "output_type": "stream",
          "name": "stdout",
          "text": [
            "Original array: [70, 43, 71, 46, 15, 47, 20, 76, 55, 98, 24, 34, 30, 75, 8, 14, 42, 40, 76, 12]\n",
            "Sorted array: [8, 12, 14, 15, 20, 24, 30, 34, 40, 42, 43, 46, 47, 55, 70, 71, 75, 76, 76, 98]\n"
          ]
        }
      ]
    },
    {
      "cell_type": "markdown",
      "source": [
        "Merge정렬"
      ],
      "metadata": {
        "id": "kzyYAmzIXq6x"
      }
    },
    {
      "cell_type": "code",
      "source": [
        "import random\n",
        "\n",
        "def merge_sort(arr):\n",
        "    if len(arr) <= 1:\n",
        "        return arr\n",
        "\n",
        "    mid = len(arr) // 2\n",
        "    left = arr[:mid]\n",
        "    right = arr[mid:]\n",
        "\n",
        "    left = merge_sort(left)\n",
        "    right = merge_sort(right)\n",
        "\n",
        "    return merge(left, right)\n",
        "\n",
        "def merge(left, right):\n",
        "    merged = []\n",
        "    i = j = 0\n",
        "\n",
        "    while i < len(left) and j < len(right):\n",
        "        if left[i] < right[j]:\n",
        "            merged.append(left[i])\n",
        "            i += 1\n",
        "        else:\n",
        "            merged.append(right[j])\n",
        "            j += 1\n",
        "\n",
        "    while i < len(left):\n",
        "        merged.append(left[i])\n",
        "        i += 1\n",
        "\n",
        "    while j < len(right):\n",
        "        merged.append(right[j])\n",
        "        j += 1\n",
        "\n",
        "    return merged\n",
        "\n",
        "# 20개의 랜덤한 숫자 발생\n",
        "arr = [random.randint(1, 100) for _ in range(20)]\n",
        "print(\"Original array:\", arr)\n",
        "\n",
        "# Merge 정렬\n",
        "sorted_arr = merge_sort(arr)\n",
        "print(\"Sorted array:\", sorted_arr)"
      ],
      "metadata": {
        "colab": {
          "base_uri": "https://localhost:8080/"
        },
        "id": "gbJb30fKXsac",
        "outputId": "67af5633-6847-4764-be84-be098a7c145f"
      },
      "execution_count": 5,
      "outputs": [
        {
          "output_type": "stream",
          "name": "stdout",
          "text": [
            "Original array: [76, 76, 39, 82, 60, 28, 80, 100, 82, 80, 85, 14, 75, 4, 30, 71, 23, 50, 76, 17]\n",
            "Sorted array: [4, 14, 17, 23, 28, 30, 39, 50, 60, 71, 75, 76, 76, 76, 80, 80, 82, 82, 85, 100]\n"
          ]
        }
      ]
    },
    {
      "cell_type": "markdown",
      "source": [],
      "metadata": {
        "id": "iG8jWkzNXtj7"
      }
    }
  ]
}